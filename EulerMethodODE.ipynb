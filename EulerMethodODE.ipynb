{
 "cells": [
  {
   "cell_type": "code",
   "execution_count": 1,
   "metadata": {},
   "outputs": [],
   "source": [
    "#In this notebook I will make a simple ODE solver using the euler method "
   ]
  },
  {
   "cell_type": "code",
   "execution_count": 2,
   "metadata": {},
   "outputs": [],
   "source": [
    "import numpy as np #As usual lets load the numpy module\n",
    "import matplotlib.pyplot as plt #and also the plotter module"
   ]
  },
  {
   "cell_type": "code",
   "execution_count": 11,
   "metadata": {},
   "outputs": [],
   "source": [
    "#Now lets make our function that will solve any kind of ODE\n",
    "#The main idea is the following: dX_(k)/dt = fun(X_(k),t), X is a vector => X_(k+1) = X_(k) + dt*fun(X_(k),t)\n",
    "def eulerODE(fun_df,X0,t0,tf,N):\n",
    "    u = [] #We will store each point of the evolution in the u variable\n",
    "    time = np.linspace(t0,tf,N) #Generate the time points\n",
    "    step = (t0 - tf)/(N-1) #Lets calculate the dt (differential time)\n",
    "    u.append(X0) #Add the initial value to u\n",
    "    #for each time point, lets calculate the u using newton approximation\n",
    "    for i in range(len(time)-1):\n",
    "        u.append(u[i] + step*fun_df(u[i],time[i]))\n",
    "    return time,u"
   ]
  },
  {
   "cell_type": "code",
   "execution_count": 12,
   "metadata": {},
   "outputs": [
    {
     "data": {
      "image/png": "[encoded data removed]",
      "text/plain": [
       "<Figure size 432x288 with 1 Axes>"
      ]
     },
     "metadata": {
      "needs_background": "light"
     },
     "output_type": "display_data"
    }
   ],
   "source": [
    "#Let's try out function with the wave equation\n",
    "#y'' + 2y = 0\n",
    "#x1 = y => x1' = x2\n",
    "#x2 = y' => x2' = -2 x1\n",
    "def fun_dy(X,t):\n",
    "    dX = np.array([X[1],-2*X[0]])\n",
    "    return dX\n",
    "X0 = np.array([0,5])\n",
    "t0 = 0\n",
    "tf = 5\n",
    "N = 100\n",
    "t,u = eulerODE(fun_dy,X0,t0,tf,N)\n",
    "\n",
    "x = [y[1] for y in u]\n",
    "plt.plot(t,x)\n",
    "plt.show()"
   ]
  },
  {
   "cell_type": "code",
   "execution_count": null,
   "metadata": {},
   "outputs": [],
   "source": []
  }
 ],
 "metadata": {
  "kernelspec": {
   "display_name": "Python 3",
   "language": "python",
   "name": "python3"
  },
  "language_info": {
   "codemirror_mode": {
    "name": "ipython",
    "version": 3
   },
   "file_extension": ".py",
   "mimetype": "text/x-python",
   "name": "python",
   "nbconvert_exporter": "python",
   "pygments_lexer": "ipython3",
   "version": "3.6.8"
  }
 },
 "nbformat": 4,
 "nbformat_minor": 2
}
